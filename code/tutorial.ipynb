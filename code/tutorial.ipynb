{
  "nbformat": 4,
  "nbformat_minor": 0,
  "metadata": {
    "kernelspec": {
      "display_name": "Python 2",
      "language": "python",
      "name": "python2"
    },
    "language_info": {
      "codemirror_mode": {
        "name": "ipython",
        "version": 2
      },
      "file_extension": ".py",
      "mimetype": "text/x-python",
      "name": "python",
      "nbconvert_exporter": "python",
      "pygments_lexer": "ipython2",
      "version": "2.7.11"
    },
    "colab": {
      "name": "tutorial.ipynb",
      "provenance": [],
      "collapsed_sections": [],
      "include_colab_link": true
    }
  },
  "cells": [
    {
      "cell_type": "markdown",
      "metadata": {
        "id": "view-in-github",
        "colab_type": "text"
      },
      "source": [
        "<a href=\"https://colab.research.google.com/github/mpsenka21/vilds/blob/master/code/tutorial.ipynb\" target=\"_parent\"><img src=\"https://colab.research.google.com/assets/colab-badge.svg\" alt=\"Open In Colab\"/></a>"
      ]
    },
    {
      "cell_type": "markdown",
      "metadata": {
        "id": "9PBzQ5c8T7Iy"
      },
      "source": [
        "# Tutorial introduction to variational state-space models\n"
      ]
    },
    {
      "cell_type": "code",
      "metadata": {
        "id": "gMu18fRxqRtX"
      },
      "source": [
        "# Commands to clone needed repos and move files into home directory"
      ],
      "execution_count": null,
      "outputs": []
    },
    {
      "cell_type": "code",
      "metadata": {
        "colab": {
          "base_uri": "https://localhost:8080/"
        },
        "id": "I2fG0-UCVSna",
        "outputId": "9d83aff5-2b58-4b1a-b554-c5ccf85da4ef"
      },
      "source": [
        "# main library\n",
        "!git clone https://github.com/mpsenka21/vilds"
      ],
      "execution_count": null,
      "outputs": [
        {
          "output_type": "stream",
          "text": [
            "Cloning into 'vilds'...\n",
            "remote: Enumerating objects: 16, done.\u001b[K\n",
            "remote: Counting objects: 100% (16/16), done.\u001b[K\n",
            "remote: Compressing objects: 100% (15/15), done.\u001b[K\n",
            "remote: Total 96 (delta 2), reused 9 (delta 1), pack-reused 80\u001b[K\n",
            "Unpacking objects: 100% (96/96), done.\n"
          ],
          "name": "stdout"
        }
      ]
    },
    {
      "cell_type": "code",
      "metadata": {
        "colab": {
          "base_uri": "https://localhost:8080/"
        },
        "id": "motHKdlYqeZ1",
        "outputId": "f64a88d6-9309-4865-acbd-5aa26ef2f325"
      },
      "source": [
        "# small mnist\n",
        "!git clone https://github.com/mnielsen/rmnist"
      ],
      "execution_count": null,
      "outputs": [
        {
          "output_type": "stream",
          "text": [
            "Cloning into 'rmnist'...\n",
            "remote: Enumerating objects: 179, done.\u001b[K\n",
            "remote: Total 179 (delta 0), reused 0 (delta 0), pack-reused 179\n",
            "Receiving objects: 100% (179/179), 56.32 MiB | 8.32 MiB/s, done.\n",
            "Resolving deltas: 100% (90/90), done.\n"
          ],
          "name": "stdout"
        }
      ]
    },
    {
      "cell_type": "code",
      "metadata": {
        "id": "zgeO1m4uWiV7"
      },
      "source": [
        "!mv vilds/code/GenerativeModel.py ./"
      ],
      "execution_count": null,
      "outputs": []
    },
    {
      "cell_type": "code",
      "metadata": {
        "id": "_iUlSs7yW50Y"
      },
      "source": [
        "!mv vilds/code/lib/* ./"
      ],
      "execution_count": null,
      "outputs": []
    },
    {
      "cell_type": "code",
      "metadata": {
        "id": "gJ6_7n1HW6LI"
      },
      "source": [
        "!mv vilds/code/RecognitionModel.py ./"
      ],
      "execution_count": null,
      "outputs": []
    },
    {
      "cell_type": "code",
      "metadata": {
        "id": "9_ekiUp1XMxe"
      },
      "source": [
        "!mv vilds/code/SGVB.py ./"
      ],
      "execution_count": null,
      "outputs": []
    },
    {
      "cell_type": "code",
      "metadata": {
        "id": "k6k52Iz6qkHQ"
      },
      "source": [
        "!mv rmnist/* ./"
      ],
      "execution_count": null,
      "outputs": []
    },
    {
      "cell_type": "code",
      "metadata": {
        "id": "q7miUDWpqoKW"
      },
      "source": [
        "# generate small mnist\n",
        "!python data_loader.py"
      ],
      "execution_count": null,
      "outputs": []
    },
    {
      "cell_type": "code",
      "metadata": {
        "colab": {
          "base_uri": "https://localhost:8080/"
        },
        "id": "dEO--A6sUJAJ",
        "outputId": "b9e64700-3043-47b4-df87-bcd9660042a4"
      },
      "source": [
        "# needed special version of lasagne for code to run\n",
        "!pip install --upgrade https://github.com/Lasagne/Lasagne/archive/master.zip"
      ],
      "execution_count": null,
      "outputs": [
        {
          "output_type": "stream",
          "text": [
            "Collecting https://github.com/Lasagne/Lasagne/archive/master.zip\n",
            "\u001b[?25l  Downloading https://github.com/Lasagne/Lasagne/archive/master.zip\n",
            "\u001b[K     - 460kB 5.7MB/s\n",
            "\u001b[?25hRequirement already satisfied, skipping upgrade: numpy in /usr/local/lib/python2.7/dist-packages (from Lasagne==0.2.dev1) (1.16.4)\n",
            "Building wheels for collected packages: Lasagne\n",
            "  Building wheel for Lasagne (setup.py) ... \u001b[?25l\u001b[?25hdone\n",
            "  Created wheel for Lasagne: filename=Lasagne-0.2.dev1-cp27-none-any.whl size=122797 sha256=877ce4dfa4e9f60e6a892f859f31f69e094c85a11f24037f6c239bafc57ac02d\n",
            "  Stored in directory: /tmp/pip-ephem-wheel-cache-5jgfmc/wheels/ca/4a/00/87f1777b229481fe76562df7c0cfb993bc88ed0cc37e3f0ed4\n",
            "Successfully built Lasagne\n",
            "Installing collected packages: Lasagne\n",
            "Successfully installed Lasagne-0.2.dev1\n"
          ],
          "name": "stdout"
        }
      ]
    },
    {
      "cell_type": "code",
      "metadata": {
        "id": "yyVNJadUT7I0"
      },
      "source": [
        "# load Python/Theano stuff\n",
        "%load_ext autoreload \n",
        "# Show figures inline with the code\n",
        "%matplotlib inline   \n",
        "\n",
        "import lasagne       # the library we're using for NN's\n",
        "import theano\n",
        "import theano.tensor as T\n",
        "import theano.tensor.nlinalg as Tla\n",
        "# import the nonlinearities we might use \n",
        "from lasagne.nonlinearities import leaky_rectify, softmax, linear, tanh, rectify, sigmoid\n",
        "from theano.tensor.shared_randomstreams import RandomStreams\n",
        "import numpy as np\n",
        "from numpy.random import *\n",
        "from matplotlib import pyplot as plt\n",
        "\n",
        "import cPickle\n",
        "import sys\n",
        "\n",
        "# I always initialize random variables here. \n",
        "msrng = RandomStreams(seed=20150503)\n",
        "mnrng = np.random.RandomState(20150503)"
      ],
      "execution_count": null,
      "outputs": []
    },
    {
      "cell_type": "code",
      "metadata": {
        "id": "VMBati1OT7I5"
      },
      "source": [
        "theano.config.optimizer = 'fast_compile'\n",
        "\n",
        "# Load our code\n",
        "\n",
        "# Add all the paths that should matter right now\n",
        "sys.path.append('lib')  # support files (mathematical tools, mostly)\n",
        "\n",
        "from GenerativeModel import *       # Class file for generative models. \n",
        "from RecognitionModel import *      # Class file for recognition models\n",
        "from SGVB import *                  # The meat of the algorithm - define the ELBO and initialize Gen/Rec model"
      ],
      "execution_count": null,
      "outputs": []
    },
    {
      "cell_type": "markdown",
      "metadata": {
        "collapsed": false,
        "scrolled": true,
        "id": "Ej0bz3qHT7I6"
      },
      "source": [
        "# Generative models and sampling\n",
        "\n",
        "The GenerativeModel.py file contains an abstract Generative model class, and implementations of a few example generative models: LDS (Kalman filter model), PLDS (LDS with Poisson count observations). The abstract GenerativeModel class describes all the functions you must implement to define a new GenerativeModel: methods for sampling from the model and and evaluating its log likelihood.\n",
        "\n",
        "\n",
        "When initializing a new GenerativeModel instance, you define all its parameters in a dictionary. For the LDS and PLDS classes, most parameters have random initializations that will be used if they are not specified in the dictionary. \n"
      ]
    },
    {
      "cell_type": "code",
      "metadata": {
        "colab": {
          "base_uri": "https://localhost:8080/",
          "height": 68
        },
        "id": "PiRvXd_CT7I6",
        "outputId": "881f2025-6d1f-4f8e-bfff-acb12c1845c0"
      },
      "source": [
        "# Let's define a PLDS GenerativeModel. First, choose dimensionality of latent space and output:\n",
        "\n",
        "xDim = 5\n",
        "yDim = 28\n",
        "\n",
        "# Generate random dynamics matrix A\n",
        "\n",
        "A = np.random.randn(xDim, xDim)\n",
        "u, s, vt = np.linalg.svd(A)\n",
        "s_max = np.max(s)\n",
        "S = np.diag(s) * (1/s_max)\n",
        "\n",
        "A_scaled = np.dot(np.dot(u, S), vt)\n",
        "####### Set up genertive model dictionary #######\n",
        "\n",
        "# Define a neural network that maps the latent state into the output\n",
        "gen_nn = lasagne.layers.InputLayer((None, xDim))\n",
        "gen_nn = lasagne.layers.DenseLayer(gen_nn, yDim, nonlinearity=linear, W=lasagne.init.Orthogonal())\n",
        "NN_XtoY_Params = dict([('network', gen_nn)])\n",
        "\n",
        "# #Put all the parameters in a dictionary\n",
        "gendict = dict([('A'     , 0.8*np.eye(xDim)),         # Linear dynamics parameters\n",
        "                ('QChol' , 0.5*np.diag(np.ones(xDim))), # innovation noise\n",
        "                ('Q0Chol', 0.5*np.diag(np.ones(xDim))), \n",
        "                ('x0'    , np.zeros(xDim)), \n",
        "#                ('RChol', np.ones(yDim)),             # observation covariance\n",
        "                ('NN_XtoY_Params',NN_XtoY_Params),    # neural network output mapping\n",
        "                ('output_nlin' , 'softplus')  # for poisson observations\n",
        "                ])\n",
        "\n",
        "# Instantiate a PLDS generative model:\n",
        "true_model = PLDS(gendict, xDim, yDim, srng = msrng, nrng = mnrng)\n",
        "\n",
        "# Now, we can sample from it:\n",
        "Tt = 10000 # How many samples do we want?\n",
        "[x_data, y_data] = true_model.sampleXY(Tt) # sample from the generative model  \n",
        "print(y_data.shape)\n",
        "# y_data = np.ones((Tt, yDim))\n",
        "# and plot them\n",
        "plt.figure()\n",
        "# plt.subplot(121)\n",
        "# plt.plot(x_data[:250,:2])\n",
        "# plt.title('latent states')\n",
        "# plt.subplot(122)\n",
        "# plt.plot(y_data[:250,:2])\n",
        "# plt.title('observations')\n",
        "\n",
        "# true_model.evaluateLogDensity(x_data[:100], y_data[:100]).eval()\n"
      ],
      "execution_count": null,
      "outputs": [
        {
          "output_type": "stream",
          "text": [
            "(2800, 28)\n"
          ],
          "name": "stdout"
        },
        {
          "output_type": "execute_result",
          "data": {
            "text/plain": [
              "<Figure size 432x288 with 0 Axes>"
            ]
          },
          "metadata": {
            "tags": []
          },
          "execution_count": 16
        },
        {
          "output_type": "display_data",
          "data": {
            "text/plain": [
              "<Figure size 432x288 with 0 Axes>"
            ]
          },
          "metadata": {
            "tags": []
          }
        }
      ]
    },
    {
      "cell_type": "code",
      "metadata": {
        "id": "LwHLHJhPq7_J"
      },
      "source": [
        "# extract small mnist\n",
        "import gzip\n",
        "import pickle\n",
        "\n",
        "\n",
        "with gzip.open('data/rmnist_10.pkl.gz', 'rb') as f:\n",
        "    train_set, valid_set, test_set = pickle.load(f)"
      ],
      "execution_count": null,
      "outputs": []
    },
    {
      "cell_type": "code",
      "metadata": {
        "id": "FeuMpBx8q_Wm"
      },
      "source": [
        "# use MNIST as data\n",
        "# NOTE: this is very ill-posed for a number of reasons\n",
        "y_data = 100*np.ones((28*100, 28))\n",
        "\n",
        "for i in range(100):\n",
        "  y_data[28*i:28*(i+1),:] = train_set[0][i].reshape((28, 28))\n",
        "\n",
        "xDim = 5\n",
        "yDim = 28"
      ],
      "execution_count": null,
      "outputs": []
    },
    {
      "cell_type": "markdown",
      "metadata": {
        "collapsed": false,
        "id": "79Sab7GaT7I7"
      },
      "source": [
        "# Recognition Model (\"approximate posterior\")\n",
        "\n",
        "\n",
        "Our goal is to learn the parameters of $p_\\theta(y|x)$ and the posterior $p(x|y)$. \n",
        "\n",
        "Since the posterior is hard to compute for most generative models, we approximate it using a Gaussian. Because we're interested in timeseries, we've designed our approximation to be able to express temporal correlations in a computationally fast way. In the code, we call this the \"SmoothingTimeSeries\" and \"SmoothingLDSTimeSeries\" recognition models (corresponding to the two parameterizations in Sec. 4 of the paper). \n"
      ]
    },
    {
      "cell_type": "code",
      "metadata": {
        "colab": {
          "base_uri": "https://localhost:8080/",
          "height": 315
        },
        "id": "lsr5vsJDT7I7",
        "outputId": "ab1a9062-4b13-4ab0-aeb8-8192c25a5f03"
      },
      "source": [
        "########################################\n",
        "# Describe network for mapping into means\n",
        "NN_Mu = lasagne.layers.InputLayer((None, yDim))\n",
        "NN_Mu = lasagne.layers.DenseLayer(NN_Mu, 25, nonlinearity=tanh, W=lasagne.init.Orthogonal())\n",
        "#--------------------------------------\n",
        "# let's initialize the first layer to have 0 mean wrt our training data\n",
        "W0 = np.asarray(NN_Mu.W.get_value(), dtype=theano.config.floatX)\n",
        "NN_Mu.W.set_value( (W0 / np.dot(y_data, W0).std(axis=0)).astype(theano.config.floatX) )\n",
        "W0 = np.asarray(NN_Mu.W.get_value(), dtype=theano.config.floatX)\n",
        "b0 = (-np.dot(y_data, W0).mean(axis=0)).astype(theano.config.floatX)\n",
        "NN_Mu.b.set_value(b0)\n",
        "#--------------------------------------\n",
        "NN_Mu = lasagne.layers.DenseLayer(NN_Mu, xDim, nonlinearity=linear, W=lasagne.init.Normal())\n",
        "NN_Mu.W.set_value(NN_Mu.W.get_value()*10)\n",
        "NN_Mu = dict([('network', NN_Mu)])\n",
        "\n",
        "########################################\n",
        "# Describe network for mapping into Covariances\n",
        "NN_Lambda = lasagne.layers.InputLayer((None, yDim))\n",
        "NN_Lambda = lasagne.layers.DenseLayer(NN_Lambda, 25, nonlinearity=tanh, W=lasagne.init.Orthogonal())\n",
        "#--------------------------------------\n",
        "# let's initialize the first layer to have 0 mean wrt our training data\n",
        "W0 = np.asarray(NN_Lambda.W.get_value(), dtype=theano.config.floatX)\n",
        "NN_Lambda.W.set_value( (W0 / np.dot(y_data, W0).std(axis=0)).astype(theano.config.floatX) )\n",
        "W0 = np.asarray(NN_Lambda.W.get_value(), dtype=theano.config.floatX)\n",
        "b0 = (-np.dot(y_data, W0).mean(axis=0)).astype(theano.config.floatX)\n",
        "NN_Lambda.b.set_value(b0)\n",
        "#--------------------------------------\n",
        "NN_Lambda = lasagne.layers.DenseLayer(NN_Lambda, xDim*xDim, nonlinearity=linear, W=lasagne.init.Orthogonal())\n",
        "NN_Lambda.W.set_value(NN_Lambda.W.get_value()*10)\n",
        "NN_Lambda = dict([('network', NN_Lambda)])\n",
        "\n",
        "########################################\n",
        "# define dictionary of recognition model parameters\n",
        "recdict = dict([('A'     , .9*np.eye(xDim)),\n",
        "                ('QinvChol',  np.eye(xDim)), #np.linalg.cholesky(np.linalg.inv(np.array(tQ)))),\n",
        "                ('Q0invChol', np.eye(xDim)), #np.linalg.cholesky(np.linalg.inv(np.array(tQ0)))),\n",
        "                ('NN_Mu' ,NN_Mu),\n",
        "                ('NN_Lambda',NN_Lambda),\n",
        "                ])\n",
        "\n",
        "########################################\n",
        "# We can instantiate a recognition model alone and sample from it. \n",
        "# First, we have to define a Theano dummy variable for the input observations the posterior expects:\n",
        "Y = T.matrix()\n",
        "\n",
        "rec_model = SmoothingLDSTimeSeries(recdict, Y, xDim, yDim, srng = msrng, nrng = mnrng)\n",
        "rsamp = rec_model.getSample()\n",
        "\n",
        "# to look at a sample, we have to evaluate it at data:\n",
        "plt.figure()\n",
        "plt.plot(rsamp.eval({Y: y_data[:250]})) # here, the data are mapping into the parameters\n",
        "plt.title('samples from an untrained approximate posterior')\n"
      ],
      "execution_count": null,
      "outputs": [
        {
          "output_type": "stream",
          "text": [
            "WARNING (theano.tensor.blas): We did not find a dynamic library in the library_dir of the library we use for blas. If you use ATLAS, make sure to compile it with dynamics library.\n"
          ],
          "name": "stderr"
        },
        {
          "output_type": "execute_result",
          "data": {
            "text/plain": [
              "Text(0.5,1,'samples from an untrained approximate posterior')"
            ]
          },
          "metadata": {
            "tags": []
          },
          "execution_count": 17
        },
        {
          "output_type": "display_data",
          "data": {
            "image/png": "[encoded data removed]",
            "text/plain": [
              "<Figure size 432x288 with 1 Axes>"
            ]
          },
          "metadata": {
            "tags": [],
            "needs_background": "light"
          }
        }
      ]
    },
    {
      "cell_type": "markdown",
      "metadata": {
        "id": "uGgDlhP1T7I7"
      },
      "source": [
        "We train the generative model and recognition model together using gradient descent. We wrapped the SGVB objective function in the SGVB class. To train a generative and recognition model on data, we instantiate an instance of SGVB, passing in the GenerativeModel and RecognitionModel we wish to use (along with parameter dictionaries). "
      ]
    },
    {
      "cell_type": "code",
      "metadata": {
        "scrolled": true,
        "id": "obAexB93T7I7"
      },
      "source": [
        "# initialize training with a random generative model (that we haven't generated data from):\n",
        "initGenDict = dict([\n",
        "             ('output_nlin' , 'softplus')  \n",
        "                 ])\n",
        "\n",
        "# Instantiate an SGVB class:\n",
        "sgvb = SGVB(initGenDict, PLDS, recdict, SmoothingLDSTimeSeries, xDim = xDim, yDim = yDim)"
      ],
      "execution_count": null,
      "outputs": []
    },
    {
      "cell_type": "code",
      "metadata": {
        "id": "iylCc1QgT7I7"
      },
      "source": [
        "########################################\n",
        "# Define a helper class to help us iterate through the training data\n",
        "class DatasetMiniBatchIndexIterator(object):\n",
        "    \"\"\" Basic mini-batch iterator \"\"\"\n",
        "    def __init__(self, y, batch_size=100, randomize=False):\n",
        "        self.y = y\n",
        "        self.batch_size = batch_size\n",
        "        self.randomize = randomize\n",
        "        from sklearn.utils import check_random_state\n",
        "        self.rng = np.random.RandomState(np.random.randint(12039210))\n",
        "\n",
        "    def __iter__(self):\n",
        "        n_samples = self.y.shape[0]\n",
        "        #if n_samples == self.batch_size:\n",
        "        #    yield [self.y, np.arange(n_samples)]\n",
        "        if self.randomize:\n",
        "            for _ in xrange(n_samples / self.batch_size):\n",
        "                if self.batch_size > 1:\n",
        "                    i = int(self.rng.rand(1) * ((n_samples-self.batch_size-1)))\n",
        "                else:\n",
        "                    i = int(math.floor(self.rng.rand(1) * n_samples))\n",
        "                ii = np.arange(i, i + self.batch_size)\n",
        "                yield [self.y[ii], ii]\n",
        "        else:\n",
        "            for i in xrange((n_samples + self.batch_size - 1)\n",
        "                            / self.batch_size):\n",
        "                ii = np.arange(i*self.batch_size,(i+1)*self.batch_size)\n",
        "                yield [self.y[ii], ii]"
      ],
      "execution_count": null,
      "outputs": []
    },
    {
      "cell_type": "code",
      "metadata": {
        "id": "6DRzM5w6T7I8"
      },
      "source": [
        "########################################\n",
        "# Define a bare-bones thenao training function\n",
        "batch_y = T.matrix('batch_y')\n",
        "\n",
        "########################################\n",
        "# choose learning rate and batch size\n",
        "learning_rate = 1e-2\n",
        "batch_size = 100\n",
        "\n",
        "########################################\n",
        "# use lasagne to get adam updates\n",
        "updates = lasagne.updates.adam(-sgvb.cost(), sgvb.getParams(), learning_rate=learning_rate)\n",
        "\n",
        "########################################\n",
        "# Finally, compile the function that will actually take gradient steps. \n",
        "train_fn = theano.function(\n",
        "         outputs=sgvb.cost(),\n",
        "         inputs=[theano.In(batch_y)],\n",
        "         updates=updates,\n",
        "         givens={sgvb.Y: batch_y},\n",
        "    )"
      ],
      "execution_count": null,
      "outputs": []
    },
    {
      "cell_type": "code",
      "metadata": {
        "colab": {
          "base_uri": "https://localhost:8080/"
        },
        "id": "4TMTkHgET7I8",
        "outputId": "bf79a435-3fb7-449f-971e-62e763926c21"
      },
      "source": [
        "########################################\n",
        "# set up an iterator over our training data\n",
        "yiter = DatasetMiniBatchIndexIterator(y_data, batch_size=batch_size, randomize=True)\n",
        "\n",
        "########################################\n",
        "# Iterate over the training data for the specified number of epochs\n",
        "n_epochs = 20\n",
        "cost = []\n",
        "for ie in np.arange(n_epochs):\n",
        "    print('--> entering epoch %d' % ie)\n",
        "    for y, _ in yiter:\n",
        "        cost.append(train_fn(y))\n",
        "#        print cost[-1]"
      ],
      "execution_count": null,
      "outputs": [
        {
          "output_type": "stream",
          "text": [
            "--> entering epoch 0\n"
          ],
          "name": "stdout"
        },
        {
          "output_type": "stream",
          "text": [
            "/usr/local/lib/python2.7/dist-packages/theano/tensor/basic.py:6611: FutureWarning: Using a non-tuple sequence for multidimensional indexing is deprecated; use `arr[tuple(seq)]` instead of `arr[seq]`. In the future this will be interpreted as an array index, `arr[np.array(seq)]`, which will result either in an error or a different result.\n",
            "  result[diagonal_slice] = x\n"
          ],
          "name": "stderr"
        },
        {
          "output_type": "stream",
          "text": [
            "--> entering epoch 1\n",
            "--> entering epoch 2\n",
            "--> entering epoch 3\n",
            "--> entering epoch 4\n",
            "--> entering epoch 5\n",
            "--> entering epoch 6\n",
            "--> entering epoch 7\n",
            "--> entering epoch 8\n",
            "--> entering epoch 9\n",
            "--> entering epoch 10\n",
            "--> entering epoch 11\n",
            "--> entering epoch 12\n",
            "--> entering epoch 13\n",
            "--> entering epoch 14\n",
            "--> entering epoch 15\n",
            "--> entering epoch 16\n",
            "--> entering epoch 17\n",
            "--> entering epoch 18\n",
            "--> entering epoch 19\n"
          ],
          "name": "stdout"
        }
      ]
    },
    {
      "cell_type": "code",
      "metadata": {
        "scrolled": true,
        "id": "aXktS0XUT7I8",
        "colab": {
          "base_uri": "https://localhost:8080/",
          "height": 312
        },
        "outputId": "af4a82dd-c970-4a1f-f6fc-c531bc039956"
      },
      "source": [
        "########################################\n",
        "# Iterate over the training data for the specified number of epochs\n",
        "plt.plot(cost[1:])\n",
        "plt.title('ELBO vs iteration')\n",
        "plt.xlabel('iteration number')\n",
        "plt.ylabel('Evidence Lower Bound (ELBO)')"
      ],
      "execution_count": null,
      "outputs": [
        {
          "output_type": "execute_result",
          "data": {
            "text/plain": [
              "Text(0,0.5,'Evidence Lower Bound (ELBO)')"
            ]
          },
          "metadata": {
            "tags": []
          },
          "execution_count": 22
        },
        {
          "output_type": "display_data",
          "data": {
            "image/png": "[encoded data removed]",
            "text/plain": [
              "<Figure size 432x288 with 1 Axes>"
            ]
          },
          "metadata": {
            "tags": [],
            "needs_background": "light"
          }
        }
      ]
    },
    {
      "cell_type": "markdown",
      "metadata": {
        "collapsed": false,
        "id": "LIh-klZaT7I8"
      },
      "source": [
        "We can access the trained generative and recognition models through the SGVB object, just as before."
      ]
    },
    {
      "cell_type": "code",
      "metadata": {
        "id": "IDH6WrIjT7I8",
        "colab": {
          "base_uri": "https://localhost:8080/",
          "height": 198
        },
        "outputId": "2006509d-c8ce-4e43-eee4-ed997fd2fd20"
      },
      "source": [
        "#########################\n",
        "# Since the model is non-identifiable, let's find the best linear projection from the\n",
        "# learned posterior mean into the 'true' training-data latents\n",
        "pM = sgvb.mrec.postX.eval({sgvb.Y: y_data})\n",
        "wgt = np.linalg.lstsq(pM-pM.mean(), x_data-x_data.mean())[0]   "
      ],
      "execution_count": null,
      "outputs": [
        {
          "output_type": "error",
          "ename": "NameError",
          "evalue": "ignored",
          "traceback": [
            "\u001b[0;31m\u001b[0m",
            "\u001b[0;31mNameError\u001b[0mTraceback (most recent call last)",
            "\u001b[0;32m<ipython-input-14-c811b5b01c3c>\u001b[0m in \u001b[0;36m<module>\u001b[0;34m()\u001b[0m\n\u001b[1;32m      3\u001b[0m \u001b[0;31m# learned posterior mean into the 'true' training-data latents\u001b[0m\u001b[0;34m\u001b[0m\u001b[0;34m\u001b[0m\u001b[0m\n\u001b[1;32m      4\u001b[0m \u001b[0mpM\u001b[0m \u001b[0;34m=\u001b[0m \u001b[0msgvb\u001b[0m\u001b[0;34m.\u001b[0m\u001b[0mmrec\u001b[0m\u001b[0;34m.\u001b[0m\u001b[0mpostX\u001b[0m\u001b[0;34m.\u001b[0m\u001b[0meval\u001b[0m\u001b[0;34m(\u001b[0m\u001b[0;34m{\u001b[0m\u001b[0msgvb\u001b[0m\u001b[0;34m.\u001b[0m\u001b[0mY\u001b[0m\u001b[0;34m:\u001b[0m \u001b[0my_data\u001b[0m\u001b[0;34m}\u001b[0m\u001b[0;34m)\u001b[0m\u001b[0;34m\u001b[0m\u001b[0m\n\u001b[0;32m----> 5\u001b[0;31m \u001b[0mwgt\u001b[0m \u001b[0;34m=\u001b[0m \u001b[0mnp\u001b[0m\u001b[0;34m.\u001b[0m\u001b[0mlinalg\u001b[0m\u001b[0;34m.\u001b[0m\u001b[0mlstsq\u001b[0m\u001b[0;34m(\u001b[0m\u001b[0mpM\u001b[0m\u001b[0;34m-\u001b[0m\u001b[0mpM\u001b[0m\u001b[0;34m.\u001b[0m\u001b[0mmean\u001b[0m\u001b[0;34m(\u001b[0m\u001b[0;34m)\u001b[0m\u001b[0;34m,\u001b[0m \u001b[0mx_data\u001b[0m\u001b[0;34m-\u001b[0m\u001b[0mx_data\u001b[0m\u001b[0;34m.\u001b[0m\u001b[0mmean\u001b[0m\u001b[0;34m(\u001b[0m\u001b[0;34m)\u001b[0m\u001b[0;34m)\u001b[0m\u001b[0;34m[\u001b[0m\u001b[0;36m0\u001b[0m\u001b[0;34m]\u001b[0m\u001b[0;34m\u001b[0m\u001b[0m\n\u001b[0m",
            "\u001b[0;31mNameError\u001b[0m: name 'x_data' is not defined"
          ]
        }
      ]
    },
    {
      "cell_type": "code",
      "metadata": {
        "id": "8J_Z5OrcT7I9",
        "colab": {
          "base_uri": "https://localhost:8080/",
          "height": 397
        },
        "outputId": "9b925ccb-d06f-4833-ac9a-ecb3fd09fe0a"
      },
      "source": [
        "######################### \n",
        "# Plot posterior means \n",
        "nT = 200 # number of timepoints to visualize\n",
        "# Let's simulate some new test data from our original generative model \n",
        "[x_test, y_test] = true_model.sampleXY(nT)\n",
        "\n",
        "#########################\n",
        "# sample from the trained recognition model\n",
        "rtrain_samp = sgvb.mrec.getSample()\n",
        "\n",
        "plt.figure()\n",
        "plt.hold('on')\n",
        "\n",
        "#########################\n",
        "# plot 25 samples from the posterior\n",
        "for idx in np.arange(25): # plot multiple samples from the posterior\n",
        "    xs = rtrain_samp.eval({sgvb.Y: y_test})\n",
        "    plt.plot(np.dot(xs,wgt),'k')\n",
        "# and now plot the posterior mean\n",
        "pMtest = sgvb.mrec.postX.eval({sgvb.Y: y_test})\n",
        "plt_post = plt.plot(np.dot(pMtest,wgt),'r', linewidth = 3, label = 'posterior mean')\n",
        "\n",
        "plt_true = plt.plot(x_test, 'g', linewidth = 3, label = '\\\"true\\\" mean')\n",
        "\n",
        "plt.legend(handles = plt_post + plt_true)\n",
        "plt.xlabel('time')\n",
        "plt.title('samples from the trained approximate posterior')\n"
      ],
      "execution_count": null,
      "outputs": [
        {
          "output_type": "stream",
          "text": [
            "/usr/local/lib/python2.7/dist-packages/ipykernel_launcher.py:12: MatplotlibDeprecationWarning: pyplot.hold is deprecated.\n",
            "    Future behavior will be consistent with the long-time default:\n",
            "    plot commands add elements without first clearing the\n",
            "    Axes and/or Figure.\n",
            "  if sys.path[0] == '':\n"
          ],
          "name": "stderr"
        },
        {
          "output_type": "execute_result",
          "data": {
            "text/plain": [
              "Text(0.5,1,'samples from the trained approximate posterior')"
            ]
          },
          "metadata": {
            "tags": []
          },
          "execution_count": 62
        },
        {
          "output_type": "display_data",
          "data": {
            "image/png": "[encoded data removed]",
            "text/plain": [
              "<Figure size 432x288 with 1 Axes>"
            ]
          },
          "metadata": {
            "tags": [],
            "needs_background": "light"
          }
        }
      ]
    },
    {
      "cell_type": "code",
      "metadata": {
        "colab": {
          "base_uri": "https://localhost:8080/"
        },
        "id": "YUQiF4pr5ePc",
        "outputId": "d589c7cb-2192-40fd-c32f-72148914c0d5"
      },
      "source": [
        "y_test = 100*np.ones((28*100, 28))\n",
        "\n",
        "for i in range(100):\n",
        "  y_test[28*i:28*(i+1),:] = test_set[0][i].reshape((28, 28))\n",
        "print(y_test)"
      ],
      "execution_count": null,
      "outputs": [
        {
          "output_type": "stream",
          "text": [
            "[[0. 0. 0. ... 0. 0. 0.]\n",
            " [0. 0. 0. ... 0. 0. 0.]\n",
            " [0. 0. 0. ... 0. 0. 0.]\n",
            " ...\n",
            " [0. 0. 0. ... 0. 0. 0.]\n",
            " [0. 0. 0. ... 0. 0. 0.]\n",
            " [0. 0. 0. ... 0. 0. 0.]]\n"
          ],
          "name": "stdout"
        }
      ]
    },
    {
      "cell_type": "code",
      "metadata": {
        "id": "wJmVyt6f3ZBJ"
      },
      "source": [
        "pMtrain = sgvb.mrec.postX.eval({sgvb.Y: y_data})\n",
        "pMtest = sgvb.mrec.postX.eval({sgvb.Y: y_test})"
      ],
      "execution_count": null,
      "outputs": []
    },
    {
      "cell_type": "code",
      "metadata": {
        "id": "S6BlY3WY6Kop"
      },
      "source": [
        "y_data_labels = np.zeros((100, 10))\n",
        "\n",
        "for i in range(100):\n",
        "  y_data_labels[i, train_set[1][i]] = 1\n",
        "\n",
        "y_test_labels = np.zeros((100, 10))\n",
        "\n",
        "for i in range(100):\n",
        "  y_data_labels[i, test_set[1][i]] = 1"
      ],
      "execution_count": null,
      "outputs": []
    },
    {
      "cell_type": "code",
      "metadata": {
        "colab": {
          "base_uri": "https://localhost:8080/"
        },
        "id": "oAbT0vy58W6z",
        "outputId": "4b41ba0c-a167-4542-e33e-5c0d82bf66f7"
      },
      "source": [
        "# linear classifier on full data\n",
        "\n",
        "x_train_lin = np.zeros((100, 28*28))\n",
        "for i in range(100):\n",
        "  x_train_lin[i, :] = train_set[0][i]\n",
        "  \n",
        "w = np.dot(np.dot(np.linalg.pinv(np.dot(x_train_lin.T, x_train_lin)), x_train_lin.T), y_data_labels)\n",
        "\n",
        "# report test accuracy as percent\n",
        "test_accuracy = 0.0\n",
        "\n",
        "for i in range(100):\n",
        "  test_img = test_set[0][i].reshape((1, 28*28))\n",
        "  # evaluate linear classifier\n",
        "  eval = np.dot(test_img, w)\n",
        "  # see which classification is closest\n",
        "  pred = np.argmax(eval)\n",
        "  if pred == test_set[1][i]:\n",
        "    test_accuracy += 1\n",
        "\n",
        "test_accuracy = test_accuracy / 100\n",
        "print('Test accuracy : ')\n",
        "print(test_accuracy)"
      ],
      "execution_count": null,
      "outputs": [
        {
          "output_type": "stream",
          "text": [
            "Test accuracy : \n",
            "0.41\n"
          ],
          "name": "stdout"
        }
      ]
    },
    {
      "cell_type": "code",
      "metadata": {
        "colab": {
          "base_uri": "https://localhost:8080/"
        },
        "id": "w-66aRHg-Mf7",
        "outputId": "8edb4f68-7c87-4678-9188-76bbe35edf82"
      },
      "source": [
        "# linear classifier on latent dynamics\n",
        "\n",
        "x_train_lin = np.zeros((100, 5*28))\n",
        "for i in range(100):\n",
        "  x_train_lin[i, :] = pMtrain[i*28:(i+1)*28,:].reshape(5*28)\n",
        "\n",
        "w = np.dot(np.dot(np.linalg.pinv(np.dot(x_train_lin.T, x_train_lin)), x_train_lin.T), y_data_labels)\n",
        "\n",
        "# report test accuracy as percent\n",
        "test_accuracy = 0.0\n",
        "\n",
        "for i in range(100):\n",
        "  test_img = pMtest[i*28:(i+1)*28,:].reshape((1, 5*28))\n",
        "  # evaluate linear classifier\n",
        "  eval = np.dot(test_img, w)\n",
        "  # see which classification is closest\n",
        "  pred = np.argmax(eval)\n",
        "  if pred == test_set[1][i]:\n",
        "    test_accuracy += 1\n",
        "\n",
        "test_accuracy = test_accuracy / 100\n",
        "print('Test accuracy : ')\n",
        "print(test_accuracy)"
      ],
      "execution_count": null,
      "outputs": [
        {
          "output_type": "stream",
          "text": [
            "Test accuracy : \n",
            "0.28\n"
          ],
          "name": "stdout"
        }
      ]
    },
    {
      "cell_type": "code",
      "metadata": {
        "id": "dCMH5c6BPSQA"
      },
      "source": [
        "from sklearn.neighbors import KNeighborsClassifier\n",
        "neigh = KNeighborsClassifier(n_neighbors=3)"
      ],
      "execution_count": null,
      "outputs": []
    },
    {
      "cell_type": "code",
      "metadata": {
        "colab": {
          "base_uri": "https://localhost:8080/"
        },
        "id": "tVWlm436Rcva",
        "outputId": "9434e46e-a6b9-4b1b-f516-cc7b558f86ce"
      },
      "source": [
        "neigh = KNeighborsClassifier(n_neighbors=3)\n",
        "X = []\n",
        "for i in range(100):\n",
        "  X.append(train_set[0][i])\n",
        "\n",
        "y = []\n",
        "for i in range(100):\n",
        "  y.append(train_set[1][i])\n",
        "\n",
        "neigh.fit(X, y)\n",
        "\n",
        "test_accuracy = 0.0\n",
        "for i in range(100):\n",
        "  test_img = train_set[0][i].reshape((1, 28*28))\n",
        "  # see which classification is closest\n",
        "  pred = neigh.predict(test_img)[0]\n",
        "  if pred == train_set[1][i]:\n",
        "    test_accuracy += 1\n",
        "\n",
        "test_accuracy = test_accuracy / 100\n",
        "print('Test accuracy : ')\n",
        "print(test_accuracy)"
      ],
      "execution_count": null,
      "outputs": [
        {
          "output_type": "stream",
          "text": [
            "Test accuracy : \n",
            "0.75\n"
          ],
          "name": "stdout"
        }
      ]
    },
    {
      "cell_type": "code",
      "metadata": {
        "colab": {
          "base_uri": "https://localhost:8080/"
        },
        "id": "DFQUXtItSBpR",
        "outputId": "c7eadf02-195b-4976-9b0a-b225a43bdb29"
      },
      "source": [
        "neigh2 = KNeighborsClassifier(n_neighbors=3)\n",
        "X2 = []\n",
        "for i in range(100):\n",
        "  X2.append(pMtrain[i*28:(i+1)*28,:].reshape(5*28))\n",
        "\n",
        "y2 = []\n",
        "for i in range(100):\n",
        "  y2.append(train_set[1][i])\n",
        "\n",
        "neigh2.fit(X2, y2)\n",
        "\n",
        "# report test accuracy as percent\n",
        "test_accuracy = 0.0\n",
        "for i in range(100):\n",
        "  test_img = pMtest[i*28:(i+1)*28,:].reshape((1, 5*28))\n",
        "  # see which classification is closest\n",
        "  pred = neigh2.predict(test_img)[0]\n",
        "  if pred == test_set[1][i]:\n",
        "    test_accuracy += 1\n",
        "\n",
        "test_accuracy = test_accuracy / 100\n",
        "print('Test accuracy : ')\n",
        "print(test_accuracy)"
      ],
      "execution_count": null,
      "outputs": [
        {
          "output_type": "stream",
          "text": [
            "Test accuracy : \n",
            "0.68\n"
          ],
          "name": "stdout"
        }
      ]
    },
    {
      "cell_type": "code",
      "metadata": {
        "id": "3kYTOlG0TD4X"
      },
      "source": [
        "cov_latent = np.cov(pMtrain.T)"
      ],
      "execution_count": null,
      "outputs": []
    },
    {
      "cell_type": "code",
      "metadata": {
        "colab": {
          "base_uri": "https://localhost:8080/"
        },
        "id": "geIh8lCLIq5K",
        "outputId": "4e609753-9bf8-446c-a8f1-baa790102994"
      },
      "source": [
        "cov_latent.shape"
      ],
      "execution_count": null,
      "outputs": [
        {
          "output_type": "execute_result",
          "data": {
            "text/plain": [
              "(5, 5)"
            ]
          },
          "metadata": {
            "tags": []
          },
          "execution_count": 41
        }
      ]
    },
    {
      "cell_type": "code",
      "metadata": {
        "id": "wJRUil7eIsdU"
      },
      "source": [
        "cov_true = np.cov(y_data.T)"
      ],
      "execution_count": null,
      "outputs": []
    },
    {
      "cell_type": "code",
      "metadata": {
        "colab": {
          "base_uri": "https://localhost:8080/"
        },
        "id": "JZpEb2d-I-p-",
        "outputId": "05782bd4-8102-4124-f078-793eee639cdf"
      },
      "source": [
        "cov_true.shape"
      ],
      "execution_count": null,
      "outputs": [
        {
          "output_type": "execute_result",
          "data": {
            "text/plain": [
              "(28, 28)"
            ]
          },
          "metadata": {
            "tags": []
          },
          "execution_count": 43
        }
      ]
    },
    {
      "cell_type": "code",
      "metadata": {
        "colab": {
          "base_uri": "https://localhost:8080/"
        },
        "id": "1GofQznaI_y2",
        "outputId": "14be9c54-9313-4e24-a1e4-0eb8ea9916dc"
      },
      "source": [
        "u, s_latent, vt = np.linalg.svd(cov_latent)\n",
        "u2, s_true, vt2 = np.linalg.svd(cov_true)\n",
        "print(s_latent)\n",
        "print(s_true)\n",
        "\n",
        "print(np.sum(s_latent))\n",
        "print(np.sum(s_true))"
      ],
      "execution_count": null,
      "outputs": [
        {
          "output_type": "stream",
          "text": [
            "[1.03349088e+00 4.33181345e-01 1.78033166e-03 6.40548573e-04\n",
            " 4.82075082e-04]\n",
            "[7.98407845e-01 3.57744815e-01 3.18071574e-01 1.84859928e-01\n",
            " 1.76435799e-01 1.08234268e-01 8.32138406e-02 5.05653218e-02\n",
            " 4.25402677e-02 2.83823769e-02 2.11245704e-02 1.73486203e-02\n",
            " 1.20593558e-02 1.02728114e-02 8.83088918e-03 7.57457785e-03\n",
            " 6.12964425e-03 5.51044041e-03 4.67877139e-03 3.26693269e-03\n",
            " 2.94124336e-03 1.38494297e-03 2.23417644e-04 1.73476469e-07\n",
            " 5.73521679e-17 5.73521679e-17 5.73521679e-17 5.73521679e-17]\n",
            "1.469575183024599\n",
            "2.2498024279835347\n"
          ],
          "name": "stdout"
        }
      ]
    },
    {
      "cell_type": "code",
      "metadata": {
        "id": "x158HF-Ut1Gi"
      },
      "source": [
        "posterior_sample = sgvb.mprior.sampleXY(100*28)"
      ],
      "execution_count": null,
      "outputs": []
    },
    {
      "cell_type": "code",
      "metadata": {
        "colab": {
          "base_uri": "https://localhost:8080/"
        },
        "id": "B1g0GXbjuh_o",
        "outputId": "1437fa9f-3721-44b0-9804-8a891114f3f0"
      },
      "source": [
        "posterior_sample[1].shape"
      ],
      "execution_count": null,
      "outputs": [
        {
          "output_type": "execute_result",
          "data": {
            "text/plain": [
              "(2800, 28)"
            ]
          },
          "metadata": {
            "tags": []
          },
          "execution_count": 65
        }
      ]
    },
    {
      "cell_type": "code",
      "metadata": {
        "id": "v1JbBGpBvNYu"
      },
      "source": [
        "generated_sequence = posterior_sample[1]"
      ],
      "execution_count": null,
      "outputs": []
    },
    {
      "cell_type": "code",
      "metadata": {
        "colab": {
          "base_uri": "https://localhost:8080/",
          "height": 312
        },
        "id": "weDaofodzkYP",
        "outputId": "33d481ed-f92f-487d-eb44-b507f44b4c45"
      },
      "source": [
        "index = 15\n",
        "plt.figure()\n",
        "plt.imshow(generated_sequence[index*28:(index+1)*28,:], origin='lower', interpolation='none', \n",
        "           extent=(0,28,0,28))\n",
        "plt.title('Generated image')\n",
        "plt.xlabel('x')\n",
        "plt.ylabel('y')"
      ],
      "execution_count": null,
      "outputs": [
        {
          "output_type": "execute_result",
          "data": {
            "text/plain": [
              "Text(0,0.5,'y')"
            ]
          },
          "metadata": {
            "tags": []
          },
          "execution_count": 77
        },
        {
          "output_type": "display_data",
          "data": {
            "image/png": "[encoded data removed]",
            "text/plain": [
              "<Figure size 432x288 with 1 Axes>"
            ]
          },
          "metadata": {
            "tags": [],
            "needs_background": "light"
          }
        }
      ]
    }
  ]
}